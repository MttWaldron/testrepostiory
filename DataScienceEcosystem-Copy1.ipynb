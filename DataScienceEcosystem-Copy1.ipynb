{
 "cells": [
  {
   "cell_type": "markdown",
   "id": "0ae4c617-79fe-4ff2-8db2-0f7c4d63ea9e",
   "metadata": {},
   "source": [
    "# Data Science Tools and Ecosystem"
   ]
  },
  {
   "cell_type": "markdown",
   "id": "49ea0d6f-f1e8-4ab2-9652-77ddd003937d",
   "metadata": {},
   "source": [
    "# In this notebook, Data Science Tools and Ecosystem are summarized."
   ]
  },
  {
   "cell_type": "markdown",
   "id": "bce0ca40-e11f-478e-809e-96716d3421f9",
   "metadata": {},
   "source": [
    "**Objectives:**\n",
    "- Python\n",
    "- R\n",
    "- SQL\n",
    "- Pandas\n",
    "- Anaconda"
   ]
  },
  {
   "attachments": {},
   "cell_type": "markdown",
   "id": "b975d60c-f7c1-4a1c-8bf0-398468faff58",
   "metadata": {
    "jp-MarkdownHeadingCollapsed": true
   },
   "source": [
    "# Some of the popular languages that Data Scientists use are:\n",
    "1. Python\n",
    "2. R\n",
    "3. SQL"
   ]
  },
  {
   "cell_type": "markdown",
   "id": "8f383696-9b7b-4c45-9cd7-1260502c45d3",
   "metadata": {},
   "source": [
    "# Some of the commonly used libraries Data Scientists use are:\n",
    "1. NumPy\n",
    "2. Pandas\n",
    "3. PlotLy"
   ]
  },
  {
   "cell_type": "markdown",
   "id": "6e437c29-24e8-4d72-a6de-31109aa5465e",
   "metadata": {},
   "source": [
    "| Data Science Tools |\n",
    "| ------------ |\n",
    "| Jupyter Lab |\n",
    "| Anaconda |\n",
    "| R Sstudio |"
   ]
  },
  {
   "cell_type": "markdown",
   "id": "b4eaae64-986a-4fef-8c5a-c838b94c8e6a",
   "metadata": {},
   "source": [
    "### Below are a few examples of evaluating arithmetic expressions in Python"
   ]
  },
  {
   "cell_type": "code",
   "execution_count": 2,
   "id": "49a1c329-a4a1-4d7a-a4b5-b8ef6c364817",
   "metadata": {},
   "outputs": [
    {
     "data": {
      "text/plain": [
       "17"
      ]
     },
     "execution_count": 2,
     "metadata": {},
     "output_type": "execute_result"
    }
   ],
   "source": [
    "# This a simple arithmetic expression to mutiply then add integers\n",
    "(3*4)+5"
   ]
  },
  {
   "cell_type": "code",
   "execution_count": 3,
   "id": "c89720a3-30cc-446f-af4c-583037bed0ed",
   "metadata": {},
   "outputs": [
    {
     "data": {
      "text/plain": [
       "3.3333333333333335"
      ]
     },
     "execution_count": 3,
     "metadata": {},
     "output_type": "execute_result"
    }
   ],
   "source": [
    "# This will convert 200 minutes to hours by diving by 60\n",
    "200/60"
   ]
  },
  {
   "cell_type": "markdown",
   "id": "6cb5f8ba-b780-4935-adb0-8b24c6f87250",
   "metadata": {},
   "source": [
    "## Author\n",
    "Matt Waldron"
   ]
  },
  {
   "cell_type": "code",
   "execution_count": null,
   "id": "82ae431f-2005-474e-8339-e3098387c3a2",
   "metadata": {},
   "outputs": [],
   "source": []
  }
 ],
 "metadata": {
  "kernelspec": {
   "display_name": "Python 3 (ipykernel)",
   "language": "python",
   "name": "python3"
  },
  "language_info": {
   "codemirror_mode": {
    "name": "ipython",
    "version": 3
   },
   "file_extension": ".py",
   "mimetype": "text/x-python",
   "name": "python",
   "nbconvert_exporter": "python",
   "pygments_lexer": "ipython3",
   "version": "3.13.0"
  }
 },
 "nbformat": 4,
 "nbformat_minor": 5
}
